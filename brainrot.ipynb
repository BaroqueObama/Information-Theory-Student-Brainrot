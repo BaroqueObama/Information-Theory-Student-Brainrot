{
 "cells": [
  {
   "cell_type": "markdown",
   "metadata": {},
   "source": [
    "# Using Information Theory to Determine which features affects Brainrot among students"
   ]
  },
  {
   "cell_type": "code",
   "execution_count": 23,
   "metadata": {},
   "outputs": [],
   "source": [
    "import uuid\n",
    "import math\n",
    "import pandas as pd\n",
    "import matplotlib.pyplot as plt\n",
    "import seaborn as sns\n",
    "import numpy as np\n",
    "\n",
    "from sklearn.preprocessing import StandardScaler, OneHotEncoder, StandardScaler\n",
    "from scipy.stats import norm\n",
    "from sklearn.metrics.pairwise import pairwise_kernels\n",
    "\n",
    "import statsmodels.api as sm"
   ]
  },
  {
   "cell_type": "code",
   "execution_count": 24,
   "metadata": {},
   "outputs": [],
   "source": [
    "plt.style.use(\"https://github.com/dhaitz/matplotlib-stylesheets/raw/master/pitayasmoothie-light.mplstyle\")"
   ]
  },
  {
   "cell_type": "markdown",
   "metadata": {},
   "source": [
    "## Process Data"
   ]
  },
  {
   "cell_type": "code",
   "execution_count": 25,
   "metadata": {},
   "outputs": [
    {
     "data": {
      "text/html": [
       "<div>\n",
       "<style scoped>\n",
       "    .dataframe tbody tr th:only-of-type {\n",
       "        vertical-align: middle;\n",
       "    }\n",
       "\n",
       "    .dataframe tbody tr th {\n",
       "        vertical-align: top;\n",
       "    }\n",
       "\n",
       "    .dataframe thead th {\n",
       "        text-align: right;\n",
       "    }\n",
       "</style>\n",
       "<table border=\"1\" class=\"dataframe\">\n",
       "  <thead>\n",
       "    <tr style=\"text-align: right;\">\n",
       "      <th></th>\n",
       "      <th>unique_id</th>\n",
       "      <th>race</th>\n",
       "      <th>race_complex</th>\n",
       "      <th>gender</th>\n",
       "      <th>gender_complex</th>\n",
       "      <th>grade</th>\n",
       "      <th>iphone</th>\n",
       "      <th>goon</th>\n",
       "      <th>stem</th>\n",
       "      <th>music</th>\n",
       "      <th>music_complex</th>\n",
       "      <th>insta</th>\n",
       "      <th>q1</th>\n",
       "      <th>q2</th>\n",
       "      <th>q3</th>\n",
       "      <th>q4</th>\n",
       "      <th>q5</th>\n",
       "      <th>q6</th>\n",
       "      <th>t1</th>\n",
       "      <th>t1_dirty</th>\n",
       "    </tr>\n",
       "  </thead>\n",
       "  <tbody>\n",
       "    <tr>\n",
       "      <th>0</th>\n",
       "      <td>f41ecf4a-a1b7-49d1-a13e-601e7ff37b22</td>\n",
       "      <td>Indian</td>\n",
       "      <td>Indian</td>\n",
       "      <td>m</td>\n",
       "      <td>m</td>\n",
       "      <td>12</td>\n",
       "      <td>y</td>\n",
       "      <td>y</td>\n",
       "      <td>n</td>\n",
       "      <td>n</td>\n",
       "      <td>n</td>\n",
       "      <td>662</td>\n",
       "      <td>y</td>\n",
       "      <td>n</td>\n",
       "      <td>n</td>\n",
       "      <td>n</td>\n",
       "      <td>b</td>\n",
       "      <td>snake</td>\n",
       "      <td>41.58</td>\n",
       "      <td>41.58</td>\n",
       "    </tr>\n",
       "    <tr>\n",
       "      <th>1</th>\n",
       "      <td>26ce9a22-872d-42d6-8452-9e5174aae6ca</td>\n",
       "      <td>White</td>\n",
       "      <td>White</td>\n",
       "      <td>m</td>\n",
       "      <td>m</td>\n",
       "      <td>12</td>\n",
       "      <td>n</td>\n",
       "      <td>n</td>\n",
       "      <td>n</td>\n",
       "      <td>y</td>\n",
       "      <td>y</td>\n",
       "      <td>132</td>\n",
       "      <td>y</td>\n",
       "      <td>y</td>\n",
       "      <td>y</td>\n",
       "      <td>y</td>\n",
       "      <td>b</td>\n",
       "      <td>snake</td>\n",
       "      <td>36.89</td>\n",
       "      <td>36.89</td>\n",
       "    </tr>\n",
       "    <tr>\n",
       "      <th>2</th>\n",
       "      <td>46a4ca62-b78b-4a09-bf92-78edf47c733d</td>\n",
       "      <td>Indian</td>\n",
       "      <td>Indian</td>\n",
       "      <td>m</td>\n",
       "      <td>m</td>\n",
       "      <td>12</td>\n",
       "      <td>y</td>\n",
       "      <td>n</td>\n",
       "      <td>y</td>\n",
       "      <td>n</td>\n",
       "      <td>n</td>\n",
       "      <td>520</td>\n",
       "      <td>n</td>\n",
       "      <td>n</td>\n",
       "      <td>n</td>\n",
       "      <td>n</td>\n",
       "      <td>a</td>\n",
       "      <td>snake</td>\n",
       "      <td>32.83</td>\n",
       "      <td>32.83</td>\n",
       "    </tr>\n",
       "    <tr>\n",
       "      <th>3</th>\n",
       "      <td>44a2f3b7-bd6d-4557-968f-04e28136fa1c</td>\n",
       "      <td>Asian</td>\n",
       "      <td>Asian</td>\n",
       "      <td>f</td>\n",
       "      <td>f</td>\n",
       "      <td>12</td>\n",
       "      <td>y</td>\n",
       "      <td>n</td>\n",
       "      <td>n</td>\n",
       "      <td>n</td>\n",
       "      <td>n</td>\n",
       "      <td>300</td>\n",
       "      <td>n</td>\n",
       "      <td>y</td>\n",
       "      <td>n</td>\n",
       "      <td>n</td>\n",
       "      <td>b</td>\n",
       "      <td>snake</td>\n",
       "      <td>23.25</td>\n",
       "      <td>23.25</td>\n",
       "    </tr>\n",
       "    <tr>\n",
       "      <th>4</th>\n",
       "      <td>361615c6-632d-4647-bb68-225676f79224</td>\n",
       "      <td>Asian</td>\n",
       "      <td>Asian</td>\n",
       "      <td>f</td>\n",
       "      <td>f</td>\n",
       "      <td>12</td>\n",
       "      <td>y</td>\n",
       "      <td>y</td>\n",
       "      <td>y</td>\n",
       "      <td>y</td>\n",
       "      <td>cg</td>\n",
       "      <td>1273</td>\n",
       "      <td>y</td>\n",
       "      <td>y</td>\n",
       "      <td>y</td>\n",
       "      <td>n</td>\n",
       "      <td>b</td>\n",
       "      <td>cat</td>\n",
       "      <td>34.81</td>\n",
       "      <td>34.81</td>\n",
       "    </tr>\n",
       "    <tr>\n",
       "      <th>...</th>\n",
       "      <td>...</td>\n",
       "      <td>...</td>\n",
       "      <td>...</td>\n",
       "      <td>...</td>\n",
       "      <td>...</td>\n",
       "      <td>...</td>\n",
       "      <td>...</td>\n",
       "      <td>...</td>\n",
       "      <td>...</td>\n",
       "      <td>...</td>\n",
       "      <td>...</td>\n",
       "      <td>...</td>\n",
       "      <td>...</td>\n",
       "      <td>...</td>\n",
       "      <td>...</td>\n",
       "      <td>...</td>\n",
       "      <td>...</td>\n",
       "      <td>...</td>\n",
       "      <td>...</td>\n",
       "      <td>...</td>\n",
       "    </tr>\n",
       "    <tr>\n",
       "      <th>96</th>\n",
       "      <td>0563fcaa-cf79-4e4b-8711-c385e51d3d05</td>\n",
       "      <td>Black/Hispanic</td>\n",
       "      <td>Black/Hispanic</td>\n",
       "      <td>m</td>\n",
       "      <td>m</td>\n",
       "      <td>11</td>\n",
       "      <td>y</td>\n",
       "      <td>n</td>\n",
       "      <td>n</td>\n",
       "      <td>n</td>\n",
       "      <td>theater</td>\n",
       "      <td>200</td>\n",
       "      <td>y</td>\n",
       "      <td>y</td>\n",
       "      <td>y</td>\n",
       "      <td>y</td>\n",
       "      <td>b</td>\n",
       "      <td>snake</td>\n",
       "      <td>62.00</td>\n",
       "      <td>62.00</td>\n",
       "    </tr>\n",
       "    <tr>\n",
       "      <th>97</th>\n",
       "      <td>d0573dec-2f94-4947-95e7-a4d0d438c679</td>\n",
       "      <td>Asian</td>\n",
       "      <td>Asian</td>\n",
       "      <td>m</td>\n",
       "      <td>m</td>\n",
       "      <td>11</td>\n",
       "      <td>y</td>\n",
       "      <td>n</td>\n",
       "      <td>y</td>\n",
       "      <td>y</td>\n",
       "      <td>y</td>\n",
       "      <td>50</td>\n",
       "      <td>n</td>\n",
       "      <td>y</td>\n",
       "      <td>n</td>\n",
       "      <td>n</td>\n",
       "      <td>b</td>\n",
       "      <td>snake</td>\n",
       "      <td>94.00</td>\n",
       "      <td>94.00</td>\n",
       "    </tr>\n",
       "    <tr>\n",
       "      <th>98</th>\n",
       "      <td>9bd74e6d-04d8-4f01-9f5f-81d11ac54d94</td>\n",
       "      <td>Asian</td>\n",
       "      <td>Asian</td>\n",
       "      <td>m</td>\n",
       "      <td>m</td>\n",
       "      <td>10</td>\n",
       "      <td>y</td>\n",
       "      <td>n</td>\n",
       "      <td>y</td>\n",
       "      <td>y</td>\n",
       "      <td>y</td>\n",
       "      <td>250</td>\n",
       "      <td>n</td>\n",
       "      <td>n</td>\n",
       "      <td>n</td>\n",
       "      <td>n</td>\n",
       "      <td>b</td>\n",
       "      <td>snake</td>\n",
       "      <td>19.00</td>\n",
       "      <td>19.00</td>\n",
       "    </tr>\n",
       "    <tr>\n",
       "      <th>99</th>\n",
       "      <td>156fc3b9-93f9-48fc-979d-1bf7ccd66d45</td>\n",
       "      <td>White</td>\n",
       "      <td>White</td>\n",
       "      <td>m</td>\n",
       "      <td>m</td>\n",
       "      <td>12</td>\n",
       "      <td>y</td>\n",
       "      <td>n</td>\n",
       "      <td>y</td>\n",
       "      <td>n</td>\n",
       "      <td>theater</td>\n",
       "      <td>818</td>\n",
       "      <td>y</td>\n",
       "      <td>y</td>\n",
       "      <td>y</td>\n",
       "      <td>y</td>\n",
       "      <td>b</td>\n",
       "      <td>snake</td>\n",
       "      <td>73.00</td>\n",
       "      <td>73.00</td>\n",
       "    </tr>\n",
       "    <tr>\n",
       "      <th>100</th>\n",
       "      <td>d2d61e40-c43e-424c-9ff0-d482f6274781</td>\n",
       "      <td>Asian</td>\n",
       "      <td>Asian</td>\n",
       "      <td>m</td>\n",
       "      <td>m</td>\n",
       "      <td>11</td>\n",
       "      <td>y</td>\n",
       "      <td>n</td>\n",
       "      <td>y</td>\n",
       "      <td>y</td>\n",
       "      <td>y</td>\n",
       "      <td>176</td>\n",
       "      <td>y</td>\n",
       "      <td>y</td>\n",
       "      <td>y</td>\n",
       "      <td>y</td>\n",
       "      <td>b</td>\n",
       "      <td>snake</td>\n",
       "      <td>65.00</td>\n",
       "      <td>65.00</td>\n",
       "    </tr>\n",
       "  </tbody>\n",
       "</table>\n",
       "<p>101 rows × 20 columns</p>\n",
       "</div>"
      ],
      "text/plain": [
       "                                unique_id            race    race_complex  \\\n",
       "0    f41ecf4a-a1b7-49d1-a13e-601e7ff37b22          Indian          Indian   \n",
       "1    26ce9a22-872d-42d6-8452-9e5174aae6ca           White           White   \n",
       "2    46a4ca62-b78b-4a09-bf92-78edf47c733d          Indian          Indian   \n",
       "3    44a2f3b7-bd6d-4557-968f-04e28136fa1c           Asian           Asian   \n",
       "4    361615c6-632d-4647-bb68-225676f79224           Asian           Asian   \n",
       "..                                    ...             ...             ...   \n",
       "96   0563fcaa-cf79-4e4b-8711-c385e51d3d05  Black/Hispanic  Black/Hispanic   \n",
       "97   d0573dec-2f94-4947-95e7-a4d0d438c679           Asian           Asian   \n",
       "98   9bd74e6d-04d8-4f01-9f5f-81d11ac54d94           Asian           Asian   \n",
       "99   156fc3b9-93f9-48fc-979d-1bf7ccd66d45           White           White   \n",
       "100  d2d61e40-c43e-424c-9ff0-d482f6274781           Asian           Asian   \n",
       "\n",
       "    gender gender_complex  grade iphone goon stem music music_complex  insta  \\\n",
       "0        m              m     12      y    y    n     n             n    662   \n",
       "1        m              m     12      n    n    n     y             y    132   \n",
       "2        m              m     12      y    n    y     n             n    520   \n",
       "3        f              f     12      y    n    n     n             n    300   \n",
       "4        f              f     12      y    y    y     y            cg   1273   \n",
       "..     ...            ...    ...    ...  ...  ...   ...           ...    ...   \n",
       "96       m              m     11      y    n    n     n       theater    200   \n",
       "97       m              m     11      y    n    y     y             y     50   \n",
       "98       m              m     10      y    n    y     y             y    250   \n",
       "99       m              m     12      y    n    y     n       theater    818   \n",
       "100      m              m     11      y    n    y     y             y    176   \n",
       "\n",
       "    q1 q2 q3 q4 q5     q6     t1  t1_dirty  \n",
       "0    y  n  n  n  b  snake  41.58     41.58  \n",
       "1    y  y  y  y  b  snake  36.89     36.89  \n",
       "2    n  n  n  n  a  snake  32.83     32.83  \n",
       "3    n  y  n  n  b  snake  23.25     23.25  \n",
       "4    y  y  y  n  b    cat  34.81     34.81  \n",
       "..  .. .. .. .. ..    ...    ...       ...  \n",
       "96   y  y  y  y  b  snake  62.00     62.00  \n",
       "97   n  y  n  n  b  snake  94.00     94.00  \n",
       "98   n  n  n  n  b  snake  19.00     19.00  \n",
       "99   y  y  y  y  b  snake  73.00     73.00  \n",
       "100  y  y  y  y  b  snake  65.00     65.00  \n",
       "\n",
       "[101 rows x 20 columns]"
      ]
     },
     "metadata": {},
     "output_type": "display_data"
    }
   ],
   "source": [
    "df = pd.read_csv(\"anonymous-brainrot.csv\")\n",
    "display(df)"
   ]
  },
  {
   "cell_type": "code",
   "execution_count": 26,
   "metadata": {},
   "outputs": [
    {
     "data": {
      "text/html": [
       "<div>\n",
       "<style scoped>\n",
       "    .dataframe tbody tr th:only-of-type {\n",
       "        vertical-align: middle;\n",
       "    }\n",
       "\n",
       "    .dataframe tbody tr th {\n",
       "        vertical-align: top;\n",
       "    }\n",
       "\n",
       "    .dataframe thead th {\n",
       "        text-align: right;\n",
       "    }\n",
       "</style>\n",
       "<table border=\"1\" class=\"dataframe\">\n",
       "  <thead>\n",
       "    <tr style=\"text-align: right;\">\n",
       "      <th></th>\n",
       "      <th>race</th>\n",
       "      <th>gender</th>\n",
       "      <th>grade</th>\n",
       "      <th>iphone</th>\n",
       "      <th>goon</th>\n",
       "      <th>stem</th>\n",
       "      <th>music</th>\n",
       "      <th>insta</th>\n",
       "      <th>q1</th>\n",
       "      <th>q2</th>\n",
       "      <th>...</th>\n",
       "      <th>q6</th>\n",
       "      <th>t1</th>\n",
       "      <th>q7</th>\n",
       "      <th>points</th>\n",
       "      <th>weighted_points</th>\n",
       "      <th>combined_points</th>\n",
       "      <th>std_weighted_points</th>\n",
       "      <th>std_t1</th>\n",
       "      <th>std_sum</th>\n",
       "      <th>pct</th>\n",
       "    </tr>\n",
       "  </thead>\n",
       "  <tbody>\n",
       "    <tr>\n",
       "      <th>0</th>\n",
       "      <td>Indian</td>\n",
       "      <td>Male</td>\n",
       "      <td>Senior</td>\n",
       "      <td>iPhone</td>\n",
       "      <td>goon</td>\n",
       "      <td>not STEM</td>\n",
       "      <td>Not in Music</td>\n",
       "      <td>2.821514</td>\n",
       "      <td>1</td>\n",
       "      <td>0</td>\n",
       "      <td>...</td>\n",
       "      <td>1</td>\n",
       "      <td>41.58</td>\n",
       "      <td>snake</td>\n",
       "      <td>3</td>\n",
       "      <td>4.939246</td>\n",
       "      <td>9.097246</td>\n",
       "      <td>-0.451772</td>\n",
       "      <td>0.008700</td>\n",
       "      <td>-0.443073</td>\n",
       "      <td>0.412337</td>\n",
       "    </tr>\n",
       "    <tr>\n",
       "      <th>1</th>\n",
       "      <td>White</td>\n",
       "      <td>Male</td>\n",
       "      <td>Senior</td>\n",
       "      <td>Android</td>\n",
       "      <td>not goon</td>\n",
       "      <td>not STEM</td>\n",
       "      <td>Band/Orchestra</td>\n",
       "      <td>2.123852</td>\n",
       "      <td>1</td>\n",
       "      <td>1</td>\n",
       "      <td>...</td>\n",
       "      <td>1</td>\n",
       "      <td>36.89</td>\n",
       "      <td>snake</td>\n",
       "      <td>6</td>\n",
       "      <td>10.805670</td>\n",
       "      <td>14.494670</td>\n",
       "      <td>1.409266</td>\n",
       "      <td>-0.173679</td>\n",
       "      <td>1.235587</td>\n",
       "      <td>0.731644</td>\n",
       "    </tr>\n",
       "    <tr>\n",
       "      <th>2</th>\n",
       "      <td>Indian</td>\n",
       "      <td>Male</td>\n",
       "      <td>Senior</td>\n",
       "      <td>iPhone</td>\n",
       "      <td>not goon</td>\n",
       "      <td>STEM</td>\n",
       "      <td>Not in Music</td>\n",
       "      <td>2.716838</td>\n",
       "      <td>0</td>\n",
       "      <td>0</td>\n",
       "      <td>...</td>\n",
       "      <td>1</td>\n",
       "      <td>32.83</td>\n",
       "      <td>snake</td>\n",
       "      <td>1</td>\n",
       "      <td>1.867234</td>\n",
       "      <td>5.150234</td>\n",
       "      <td>-1.426324</td>\n",
       "      <td>-0.331559</td>\n",
       "      <td>-1.757883</td>\n",
       "      <td>0.189716</td>\n",
       "    </tr>\n",
       "    <tr>\n",
       "      <th>3</th>\n",
       "      <td>Asian</td>\n",
       "      <td>Female</td>\n",
       "      <td>Senior</td>\n",
       "      <td>iPhone</td>\n",
       "      <td>not goon</td>\n",
       "      <td>not STEM</td>\n",
       "      <td>Not in Music</td>\n",
       "      <td>2.478566</td>\n",
       "      <td>0</td>\n",
       "      <td>1</td>\n",
       "      <td>...</td>\n",
       "      <td>1</td>\n",
       "      <td>23.25</td>\n",
       "      <td>snake</td>\n",
       "      <td>3</td>\n",
       "      <td>4.975008</td>\n",
       "      <td>7.300008</td>\n",
       "      <td>-0.440427</td>\n",
       "      <td>-0.704094</td>\n",
       "      <td>-1.144522</td>\n",
       "      <td>0.283573</td>\n",
       "    </tr>\n",
       "    <tr>\n",
       "      <th>4</th>\n",
       "      <td>Asian</td>\n",
       "      <td>Female</td>\n",
       "      <td>Senior</td>\n",
       "      <td>iPhone</td>\n",
       "      <td>goon</td>\n",
       "      <td>STEM</td>\n",
       "      <td>Band/Orchestra</td>\n",
       "      <td>3.105169</td>\n",
       "      <td>1</td>\n",
       "      <td>1</td>\n",
       "      <td>...</td>\n",
       "      <td>0</td>\n",
       "      <td>34.81</td>\n",
       "      <td>cat</td>\n",
       "      <td>4</td>\n",
       "      <td>7.031925</td>\n",
       "      <td>10.512925</td>\n",
       "      <td>0.212100</td>\n",
       "      <td>-0.254563</td>\n",
       "      <td>-0.042463</td>\n",
       "      <td>0.491530</td>\n",
       "    </tr>\n",
       "    <tr>\n",
       "      <th>...</th>\n",
       "      <td>...</td>\n",
       "      <td>...</td>\n",
       "      <td>...</td>\n",
       "      <td>...</td>\n",
       "      <td>...</td>\n",
       "      <td>...</td>\n",
       "      <td>...</td>\n",
       "      <td>...</td>\n",
       "      <td>...</td>\n",
       "      <td>...</td>\n",
       "      <td>...</td>\n",
       "      <td>...</td>\n",
       "      <td>...</td>\n",
       "      <td>...</td>\n",
       "      <td>...</td>\n",
       "      <td>...</td>\n",
       "      <td>...</td>\n",
       "      <td>...</td>\n",
       "      <td>...</td>\n",
       "      <td>...</td>\n",
       "      <td>...</td>\n",
       "    </tr>\n",
       "    <tr>\n",
       "      <th>96</th>\n",
       "      <td>Black/Hispanic</td>\n",
       "      <td>Male</td>\n",
       "      <td>Junior</td>\n",
       "      <td>iPhone</td>\n",
       "      <td>not goon</td>\n",
       "      <td>not STEM</td>\n",
       "      <td>Not in Music</td>\n",
       "      <td>2.303196</td>\n",
       "      <td>1</td>\n",
       "      <td>1</td>\n",
       "      <td>...</td>\n",
       "      <td>1</td>\n",
       "      <td>62.00</td>\n",
       "      <td>snake</td>\n",
       "      <td>6</td>\n",
       "      <td>10.805670</td>\n",
       "      <td>17.005670</td>\n",
       "      <td>1.409266</td>\n",
       "      <td>0.802767</td>\n",
       "      <td>2.212034</td>\n",
       "      <td>0.865640</td>\n",
       "    </tr>\n",
       "    <tr>\n",
       "      <th>97</th>\n",
       "      <td>Asian</td>\n",
       "      <td>Male</td>\n",
       "      <td>Junior</td>\n",
       "      <td>iPhone</td>\n",
       "      <td>not goon</td>\n",
       "      <td>STEM</td>\n",
       "      <td>Band/Orchestra</td>\n",
       "      <td>1.707570</td>\n",
       "      <td>0</td>\n",
       "      <td>1</td>\n",
       "      <td>...</td>\n",
       "      <td>1</td>\n",
       "      <td>94.00</td>\n",
       "      <td>snake</td>\n",
       "      <td>3</td>\n",
       "      <td>4.975008</td>\n",
       "      <td>14.375008</td>\n",
       "      <td>-0.440427</td>\n",
       "      <td>2.047143</td>\n",
       "      <td>1.606716</td>\n",
       "      <td>0.789116</td>\n",
       "    </tr>\n",
       "    <tr>\n",
       "      <th>98</th>\n",
       "      <td>Asian</td>\n",
       "      <td>Male</td>\n",
       "      <td>Sophomore</td>\n",
       "      <td>iPhone</td>\n",
       "      <td>not goon</td>\n",
       "      <td>STEM</td>\n",
       "      <td>Band/Orchestra</td>\n",
       "      <td>2.399674</td>\n",
       "      <td>0</td>\n",
       "      <td>0</td>\n",
       "      <td>...</td>\n",
       "      <td>1</td>\n",
       "      <td>19.00</td>\n",
       "      <td>snake</td>\n",
       "      <td>2</td>\n",
       "      <td>3.010293</td>\n",
       "      <td>4.910293</td>\n",
       "      <td>-1.063705</td>\n",
       "      <td>-0.869363</td>\n",
       "      <td>-1.933068</td>\n",
       "      <td>0.166889</td>\n",
       "    </tr>\n",
       "    <tr>\n",
       "      <th>99</th>\n",
       "      <td>White</td>\n",
       "      <td>Male</td>\n",
       "      <td>Senior</td>\n",
       "      <td>iPhone</td>\n",
       "      <td>not goon</td>\n",
       "      <td>STEM</td>\n",
       "      <td>Not in Music</td>\n",
       "      <td>2.913284</td>\n",
       "      <td>1</td>\n",
       "      <td>1</td>\n",
       "      <td>...</td>\n",
       "      <td>1</td>\n",
       "      <td>73.00</td>\n",
       "      <td>snake</td>\n",
       "      <td>6</td>\n",
       "      <td>10.805670</td>\n",
       "      <td>18.105670</td>\n",
       "      <td>1.409266</td>\n",
       "      <td>1.230521</td>\n",
       "      <td>2.639788</td>\n",
       "      <td>0.906565</td>\n",
       "    </tr>\n",
       "    <tr>\n",
       "      <th>100</th>\n",
       "      <td>Asian</td>\n",
       "      <td>Male</td>\n",
       "      <td>Junior</td>\n",
       "      <td>iPhone</td>\n",
       "      <td>not goon</td>\n",
       "      <td>STEM</td>\n",
       "      <td>Band/Orchestra</td>\n",
       "      <td>2.247973</td>\n",
       "      <td>1</td>\n",
       "      <td>1</td>\n",
       "      <td>...</td>\n",
       "      <td>1</td>\n",
       "      <td>65.00</td>\n",
       "      <td>snake</td>\n",
       "      <td>6</td>\n",
       "      <td>10.805670</td>\n",
       "      <td>17.305670</td>\n",
       "      <td>1.409266</td>\n",
       "      <td>0.919427</td>\n",
       "      <td>2.328694</td>\n",
       "      <td>0.877858</td>\n",
       "    </tr>\n",
       "  </tbody>\n",
       "</table>\n",
       "<p>94 rows × 23 columns</p>\n",
       "</div>"
      ],
      "text/plain": [
       "               race  gender      grade   iphone      goon      stem  \\\n",
       "0            Indian    Male     Senior   iPhone      goon  not STEM   \n",
       "1             White    Male     Senior  Android  not goon  not STEM   \n",
       "2            Indian    Male     Senior   iPhone  not goon      STEM   \n",
       "3             Asian  Female     Senior   iPhone  not goon  not STEM   \n",
       "4             Asian  Female     Senior   iPhone      goon      STEM   \n",
       "..              ...     ...        ...      ...       ...       ...   \n",
       "96   Black/Hispanic    Male     Junior   iPhone  not goon  not STEM   \n",
       "97            Asian    Male     Junior   iPhone  not goon      STEM   \n",
       "98            Asian    Male  Sophomore   iPhone  not goon      STEM   \n",
       "99            White    Male     Senior   iPhone  not goon      STEM   \n",
       "100           Asian    Male     Junior   iPhone  not goon      STEM   \n",
       "\n",
       "              music     insta  q1  q2  ...  q6     t1     q7  points  \\\n",
       "0      Not in Music  2.821514   1   0  ...   1  41.58  snake       3   \n",
       "1    Band/Orchestra  2.123852   1   1  ...   1  36.89  snake       6   \n",
       "2      Not in Music  2.716838   0   0  ...   1  32.83  snake       1   \n",
       "3      Not in Music  2.478566   0   1  ...   1  23.25  snake       3   \n",
       "4    Band/Orchestra  3.105169   1   1  ...   0  34.81    cat       4   \n",
       "..              ...       ...  ..  ..  ...  ..    ...    ...     ...   \n",
       "96     Not in Music  2.303196   1   1  ...   1  62.00  snake       6   \n",
       "97   Band/Orchestra  1.707570   0   1  ...   1  94.00  snake       3   \n",
       "98   Band/Orchestra  2.399674   0   0  ...   1  19.00  snake       2   \n",
       "99     Not in Music  2.913284   1   1  ...   1  73.00  snake       6   \n",
       "100  Band/Orchestra  2.247973   1   1  ...   1  65.00  snake       6   \n",
       "\n",
       "     weighted_points combined_points  std_weighted_points    std_t1   std_sum  \\\n",
       "0           4.939246        9.097246            -0.451772  0.008700 -0.443073   \n",
       "1          10.805670       14.494670             1.409266 -0.173679  1.235587   \n",
       "2           1.867234        5.150234            -1.426324 -0.331559 -1.757883   \n",
       "3           4.975008        7.300008            -0.440427 -0.704094 -1.144522   \n",
       "4           7.031925       10.512925             0.212100 -0.254563 -0.042463   \n",
       "..               ...             ...                  ...       ...       ...   \n",
       "96         10.805670       17.005670             1.409266  0.802767  2.212034   \n",
       "97          4.975008       14.375008            -0.440427  2.047143  1.606716   \n",
       "98          3.010293        4.910293            -1.063705 -0.869363 -1.933068   \n",
       "99         10.805670       18.105670             1.409266  1.230521  2.639788   \n",
       "100        10.805670       17.305670             1.409266  0.919427  2.328694   \n",
       "\n",
       "          pct  \n",
       "0    0.412337  \n",
       "1    0.731644  \n",
       "2    0.189716  \n",
       "3    0.283573  \n",
       "4    0.491530  \n",
       "..        ...  \n",
       "96   0.865640  \n",
       "97   0.789116  \n",
       "98   0.166889  \n",
       "99   0.906565  \n",
       "100  0.877858  \n",
       "\n",
       "[94 rows x 23 columns]"
      ]
     },
     "metadata": {},
     "output_type": "display_data"
    }
   ],
   "source": [
    "df.drop(columns=[\"unique_id\", \"race_complex\", \"gender_complex\", \"music_complex\", \"t1_dirty\"], inplace=True)\n",
    "\n",
    "# Map responses to something more understandable\n",
    "map_yes_no = {'y':1, 'n':0}\n",
    "map = {}\n",
    "for col in [\"q1\", \"q2\", \"q3\", \"q4\"]:\n",
    "    map[col] = map_yes_no\n",
    "map[\"gender\"] = {\"m\": \"Male\", \"f\": \"Female\"}\n",
    "map[\"iphone\"] = {\"y\":\"iPhone\", \"n\":\"Android\"}\n",
    "map[\"goon\"] = {\"y\":\"goon\", \"n\":\"not goon\"}\n",
    "map[\"stem\"] = {\"y\":\"STEM\", \"n\":\"not STEM\"}\n",
    "map[\"music\"] = {\"y\":\"Band/Orchestra\", \"n\":\"Not in Music\"}\n",
    "map[\"grade\"] = {9:\"Freshmen\", 10:\"Sophomore\", 11:\"Junior\", 12:\"Senior\"}\n",
    "map[\"q5\"] = {\"a\":0,\"b\":1,\"c\":0,\"d\":0}\n",
    "map[\"q6\"] = {\"snake\":1,\"cat\":0,\"worm\":0,\"chinchilla\":0}\n",
    "df[\"q7\"] = df[\"q6\"].copy()\n",
    "df = df.replace(map)\n",
    "\n",
    "# Number of questions answered correctly\n",
    "df[\"points\"] = df[[\"q1\", \"q2\", \"q3\", \"q4\", \"q5\", \"q6\"]].sum(axis=1)\n",
    "\n",
    "# Weight the questions based on difficulty by calculating the log likelihood of answering a question correctly\n",
    "p = df[[\"q1\", \"q2\", \"q3\", \"q4\", \"q5\", \"q6\"]].mean()\n",
    "log_likelihoods = df[[\"q1\", \"q2\", \"q3\", \"q4\", \"q5\", \"q6\"]].apply(lambda x: x * np.log(p) + (1 - x) * np.log(1 - p), axis=1).mean()\n",
    "weights = np.exp(log_likelihoods)\n",
    "df_weighted_sum = df * (1/weights)\n",
    "df['weighted_points'] = df_weighted_sum.sum(axis=1)\n",
    "\n",
    "# Combine statistics of quiz points and angry bird video watch time\n",
    "df[\"combined_points\"] = df[\"weighted_points\"] + df[\"t1\"]*0.1\n",
    "\n",
    "# Take log of instagram followers\n",
    "# df[\"log_insta\"] = df[\"insta\"].apply(lambda x: math.log10(x+1))\n",
    "df[\"insta\"] = df[\"insta\"].apply(lambda x: math.log10(x+1))\n",
    "\n",
    "# Standardize some of the features\n",
    "scaler = StandardScaler()\n",
    "df['std_weighted_points'] = scaler.fit_transform(np.array(df['weighted_points']).reshape(-1, 1))\n",
    "df['std_t1'] = scaler.fit_transform(np.array(df['t1']).reshape(-1, 1))\n",
    "df[\"std_sum\"] = df[\"std_weighted_points\"] + df[\"std_t1\"]\n",
    "# Calculate percentile of brainrot level\n",
    "df[\"pct\"] = df[\"std_sum\"].apply(lambda x: norm.cdf(x/2))\n",
    "\n",
    "df.dropna(inplace=True)\n",
    "display(df)"
   ]
  },
  {
   "cell_type": "markdown",
   "metadata": {},
   "source": [
    "## Compute HSIC Value"
   ]
  },
  {
   "cell_type": "code",
   "execution_count": 27,
   "metadata": {},
   "outputs": [
    {
     "name": "stdout",
     "output_type": "stream",
     "text": [
      "HSIC value: 0.009100194756692019\n",
      "HSIC value: 0.009100194756692019, p-value: 0.0\n"
     ]
    }
   ],
   "source": [
    "# Separate features and target\n",
    "X = df.iloc[:, 1:9]\n",
    "y = df.iloc[:, -2]\n",
    "\n",
    "# One-hot encode categorical features\n",
    "categorical_features = X.select_dtypes(include=['object', 'category']).columns\n",
    "encoder = OneHotEncoder()\n",
    "\n",
    "X_encoded = encoder.fit_transform(X[categorical_features]).toarray()\n",
    "\n",
    "# Standardize numerical features\n",
    "numerical_features = X.select_dtypes(include=['number']).columns\n",
    "scaler = StandardScaler()\n",
    "X_scaled = scaler.fit_transform(X[numerical_features])\n",
    "\n",
    "# Combine encoded categorical and scaled numerical features\n",
    "X_processed = np.hstack((X_encoded, X_scaled))\n",
    "\n",
    "def centering_matrix(n):\n",
    "    return np.eye(n) - np.ones((n, n)) / n\n",
    "\n",
    "def compute_hsic(X, y, kernel='rbf'):\n",
    "    m = X.shape[0]\n",
    "    H = centering_matrix(m)\n",
    "    K = pairwise_kernels(X, metric=kernel)\n",
    "    # L = pairwise_kernels(np.reshape(y, (-1, 1)), metric=kernel)\n",
    "    L = pairwise_kernels(y.values.reshape(-1, 1), metric=kernel)\n",
    "    HSIC = np.trace(np.dot(np.dot(K, H), np.dot(L, H))) / (m ** 2)\n",
    "    return HSIC\n",
    "\n",
    "# Compute HSIC\n",
    "hsic_value = compute_hsic(X_processed, y)\n",
    "print(f\"HSIC value: {hsic_value}\")\n",
    "\n",
    "# Permutation test to determine significance\n",
    "def permutation_test(X, y, n_permutations=10000, kernel='rbf'):\n",
    "    m = X.shape[0]\n",
    "    H = centering_matrix(m)\n",
    "    K = pairwise_kernels(X, metric=kernel)\n",
    "    L = pairwise_kernels(y.values.reshape(-1, 1), metric=kernel)\n",
    "    \n",
    "    original_hsic = np.trace(np.dot(np.dot(K, H), np.dot(L, H))) / (m ** 2)\n",
    "    permuted_hsics = []\n",
    "\n",
    "    for _ in range(n_permutations):\n",
    "        y_permuted = np.random.permutation(y)\n",
    "        L_perm = pairwise_kernels(y_permuted.reshape(-1, 1), metric=kernel)\n",
    "        hsic_perm = np.trace(np.dot(np.dot(K, H), np.dot(L_perm, H))) / (m ** 2)\n",
    "        permuted_hsics.append(hsic_perm)\n",
    "\n",
    "    p_value = np.mean(np.array(permuted_hsics) >= original_hsic)\n",
    "    return original_hsic, p_value\n",
    "\n",
    "# Perform permutation test\n",
    "hsic_value, p_value = permutation_test(X_processed, y)\n",
    "print(f\"HSIC value: {hsic_value}, p-value: {p_value}\")"
   ]
  },
  {
   "cell_type": "markdown",
   "metadata": {},
   "source": [
    "## Compare Different Kernels"
   ]
  },
  {
   "cell_type": "code",
   "execution_count": 28,
   "metadata": {},
   "outputs": [
    {
     "name": "stdout",
     "output_type": "stream",
     "text": [
      "Kernel: rbf, HSIC value: 0.009100194756692019, p-value: 0.0\n",
      "Kernel: linear, HSIC value: 1.082556395037847, p-value: 0.0\n",
      "Kernel: poly, HSIC value: 33.663166310702586, p-value: 0.1195\n"
     ]
    }
   ],
   "source": [
    "def compute_hsic_with_kernels(X, y, kernels=['rbf', 'linear', 'poly']):\n",
    "    hsic_results = {}\n",
    "    for kernel in kernels:\n",
    "        hsic_value, p_value = permutation_test(X, y, kernel=kernel)\n",
    "        hsic_results[kernel] = (hsic_value, p_value)\n",
    "        print(f\"Kernel: {kernel}, HSIC value: {hsic_value}, p-value: {p_value}\")\n",
    "    return hsic_results\n",
    "\n",
    "# Compute HSIC values with different kernels\n",
    "kernels = ['rbf', 'linear', 'poly']\n",
    "hsic_results = compute_hsic_with_kernels(X_processed, y, kernels=kernels)\n",
    "\n",
    "# Permutation test to get HSIC value distribution\n",
    "def permutation_test_distribution(X, y, n_permutations=10000, kernel='rbf'):\n",
    "    m = X.shape[0]\n",
    "    H = centering_matrix(m)\n",
    "    K = pairwise_kernels(X, metric=kernel)\n",
    "    L = pairwise_kernels(y.values.reshape(-1, 1), metric=kernel)\n",
    "    \n",
    "    original_hsic = np.trace(np.dot(np.dot(K, H), np.dot(L, H))) / (m ** 2)\n",
    "    permuted_hsics = []\n",
    "\n",
    "    for _ in range(n_permutations):\n",
    "        y_permuted = np.random.permutation(y)\n",
    "        L_perm = pairwise_kernels(y_permuted.reshape(-1, 1), metric=kernel)\n",
    "        hsic_perm = np.trace(np.dot(np.dot(K, H), np.dot(L_perm, H))) / (m ** 2)\n",
    "        permuted_hsics.append(hsic_perm)\n",
    "\n",
    "    return original_hsic, permuted_hsics"
   ]
  },
  {
   "cell_type": "markdown",
   "metadata": {},
   "source": [
    "## Visualize HSIC Value on Distribution"
   ]
  },
  {
   "cell_type": "code",
   "execution_count": 29,
   "metadata": {},
   "outputs": [],
   "source": [
    "# Get HSIC distribution for visualization\n",
    "original_hsic, permuted_hsics = permutation_test_distribution(X_processed, y, kernel='linear')"
   ]
  },
  {
   "cell_type": "code",
   "execution_count": 30,
   "metadata": {},
   "outputs": [
    {
     "data": {
      "image/png": "[encoded data removed]",
      "text/plain": [
       "<Figure size 640x480 with 1 Axes>"
      ]
     },
     "metadata": {},
     "output_type": "display_data"
    }
   ],
   "source": [
    "# Plot the distribution of permuted HSIC values\n",
    "sns.histplot(permuted_hsics, color=\"#ff6e9c98\", kde=True)\n",
    "plt.axvline(original_hsic, linestyle='--', label='Observed HSIC')\n",
    "plt.xlabel('HSIC value')\n",
    "plt.ylabel('Frequency')\n",
    "plt.legend()\n",
    "plt.title('Distribution of HSIC values (permuted)')\n",
    "plt.show()"
   ]
  },
  {
   "cell_type": "markdown",
   "metadata": {},
   "source": [
    "## Determine Significance of Features with BAHSIC"
   ]
  },
  {
   "cell_type": "code",
   "execution_count": 31,
   "metadata": {},
   "outputs": [
    {
     "name": "stdout",
     "output_type": "stream",
     "text": [
      "Removed feature index: 3, feature name: White HSIC value: 0.009471452782795731\n",
      "Removed feature index: 6, feature name: Freshmen HSIC value: 0.009858847759575016\n",
      "Removed feature index: 7, feature name: Junior HSIC value: 0.010287619479792844\n",
      "Removed feature index: 8, feature name: Senior HSIC value: 0.010742710930160687\n",
      "Removed feature index: 9, feature name: Sophomore HSIC value: 0.01127016298029195\n",
      "Removed feature index: 5, feature name: Male HSIC value: 0.011839811812820955\n",
      "Removed feature index: 13, feature name: Not Goon HSIC value: 0.01243928351826114\n",
      "Removed feature index: 14, feature name: STEM HSIC value: 0.013152858499849622\n",
      "Removed feature index: 4, feature name: Female HSIC value: 0.014377913165886795\n",
      "Removed feature index: 12, feature name: Goon HSIC value: 0.01575629684037111\n",
      "Removed feature index: 2, feature name: Indian HSIC value: 0.017422293481238086\n",
      "Removed feature index: 10, feature name: Android HSIC value: 0.01937795460865624\n",
      "Removed feature index: 11, feature name: iPhone HSIC value: 0.02237849942405358\n",
      "Removed feature index: 0, feature name: Asian HSIC value: 0.025954852488579434\n",
      "Removed feature index: 1, feature name: Black/Hispanic HSIC value: 0.030069683592505333\n",
      "Ordered feature indices (from most to least important): [15, 1, 0, 11, 10, 2, 12, 4, 14, 13, 5, 9, 8, 7, 6, 3]\n",
      "Ordered feature names (from most to least important): ['not STEM', 'Black/Hispanic', 'Asian', 'iPhone', 'Android', 'Indian', 'Goon', 'Female', 'STEM', 'Not Goon', 'Male', 'Sophomore', 'Senior', 'Junior', 'Freshmen', 'White']\n"
     ]
    }
   ],
   "source": [
    "categories = [\"Asian\", \"Black/Hispanic\", \"Indian\", \"White\", \"Female\", \"Male\", \"Freshmen\", \"Junior\", \"Senior\", \"Sophomore\", \"Android\", \"iPhone\", \"Goon\", \"Not Goon\", \"STEM\", \"not STEM\", \"Band/Orchestra/CG\", \"not in Music\", \"Instagram\"]\n",
    "\n",
    "def hsic(X, y, kernel='rbf'):\n",
    "    m = X.shape[0]\n",
    "    H = np.eye(m) - np.ones((m, m)) / m\n",
    "    K = pairwise_kernels(X, metric=kernel)\n",
    "    L = pairwise_kernels(y.values.reshape(-1, 1), metric=kernel)\n",
    "    return np.trace(np.dot(np.dot(K, H), np.dot(L, H))) / (m ** 2)\n",
    "\n",
    "def bahsic(X, y, kernel='rbf', n_remove=1):\n",
    "    n_features = X.shape[1]\n",
    "    feature_indices = list(range(n_features))\n",
    "    ordered_features = []\n",
    "    end = False\n",
    "\n",
    "    while len(feature_indices) > 0:\n",
    "        hsic_values = []\n",
    "        for i in feature_indices:\n",
    "            subset_indices = [j for j in feature_indices if j != i]\n",
    "            if len(subset_indices) == 0:\n",
    "                end = feature_indices[0]\n",
    "                break\n",
    "            X_subset = X[:, subset_indices]\n",
    "            hsic_value = hsic(X_subset, y, kernel)\n",
    "            hsic_values.append(hsic_value)\n",
    "\n",
    "        if not end:\n",
    "            min_hsic_index = np.argmax(hsic_values)\n",
    "            removed_feature = feature_indices.pop(min_hsic_index)\n",
    "            ordered_features.append(removed_feature)\n",
    "            print(f\"Removed feature index: {removed_feature}, feature name: {categories[removed_feature]} HSIC value: {hsic_values[min_hsic_index]}\")\n",
    "        else:\n",
    "            ordered_features.append(end)\n",
    "            break\n",
    "    return ordered_features[::-1]\n",
    "\n",
    "# Run BAHSIC on the dataset\n",
    "ordered_features = bahsic(X_processed, y, kernel='rbf')\n",
    "print(f\"Ordered feature indices (from most to least important): {ordered_features}\")\n",
    "\n",
    "# Map ordered feature indices back to original feature names\n",
    "ordered_feature_names = [categories[i] for i in ordered_features]\n",
    "print(f\"Ordered feature names (from most to least important): {ordered_feature_names}\")\n"
   ]
  },
  {
   "cell_type": "markdown",
   "metadata": {},
   "source": [
    "## Other Visualizations\n",
    "### Distribution of Weighted Points"
   ]
  },
  {
   "cell_type": "code",
   "execution_count": 32,
   "metadata": {},
   "outputs": [
    {
     "data": {
      "text/plain": [
       "(array([ 2.,  0., 10.,  1.,  0., 12.,  0.,  0.,  0., 19.,  0.,  0., 11.,\n",
       "         2.,  0.,  0., 22.,  0.,  0., 15.]),\n",
       " array([-2.01867707, -1.84727989, -1.67588272, -1.50448555, -1.33308838,\n",
       "        -1.1616912 , -0.99029403, -0.81889686, -0.64749969, -0.47610251,\n",
       "        -0.30470534, -0.13330817,  0.03808901,  0.20948618,  0.38088335,\n",
       "         0.55228052,  0.7236777 ,  0.89507487,  1.06647204,  1.23786922,\n",
       "         1.40926639]),\n",
       " <BarContainer object of 20 artists>)"
      ]
     },
     "execution_count": 32,
     "metadata": {},
     "output_type": "execute_result"
    },
    {
     "data": {
      "image/png": "[encoded data removed]",
      "text/plain": [
       "<Figure size 640x480 with 1 Axes>"
      ]
     },
     "metadata": {},
     "output_type": "display_data"
    }
   ],
   "source": [
    "plt.hist(df[\"std_weighted_points\"], bins=20)"
   ]
  },
  {
   "cell_type": "markdown",
   "metadata": {},
   "source": [
    "### Distribution of Time spent watching video"
   ]
  },
  {
   "cell_type": "code",
   "execution_count": 33,
   "metadata": {},
   "outputs": [
    {
     "data": {
      "text/plain": [
       "(array([ 3.,  6.,  6.,  9.,  8., 10.,  9.,  7.,  6.,  4.,  5.,  4.,  5.,\n",
       "         2.,  1.,  2.,  0.,  1.,  2.,  0.,  1.,  1.,  0.,  0.,  0.,  1.,\n",
       "         0.,  0.,  0.,  0.,  0.,  0.,  0.,  0.,  0.,  0.,  0.,  0.,  0.,\n",
       "         1.]),\n",
       " array([-1.33600381, -1.16781864, -0.99963346, -0.83144828, -0.6632631 ,\n",
       "        -0.49507792, -0.32689275, -0.15870757,  0.00947761,  0.17766279,\n",
       "         0.34584797,  0.51403314,  0.68221832,  0.8504035 ,  1.01858868,\n",
       "         1.18677386,  1.35495904,  1.52314421,  1.69132939,  1.85951457,\n",
       "         2.02769975,  2.19588493,  2.3640701 ,  2.53225528,  2.70044046,\n",
       "         2.86862564,  3.03681082,  3.204996  ,  3.37318117,  3.54136635,\n",
       "         3.70955153,  3.87773671,  4.04592189,  4.21410706,  4.38229224,\n",
       "         4.55047742,  4.7186626 ,  4.88684778,  5.05503295,  5.22321813,\n",
       "         5.39140331]),\n",
       " <BarContainer object of 40 artists>)"
      ]
     },
     "execution_count": 33,
     "metadata": {},
     "output_type": "execute_result"
    },
    {
     "data": {
      "image/png": "[encoded data removed]",
      "text/plain": [
       "<Figure size 640x480 with 1 Axes>"
      ]
     },
     "metadata": {},
     "output_type": "display_data"
    }
   ],
   "source": [
    "plt.hist(df[\"std_t1\"], bins=40)"
   ]
  },
  {
   "cell_type": "markdown",
   "metadata": {},
   "source": [
    "### Distribution of Combined Brainrot Index"
   ]
  },
  {
   "cell_type": "code",
   "execution_count": 34,
   "metadata": {},
   "outputs": [
    {
     "name": "stderr",
     "output_type": "stream",
     "text": [
      "No handles with labels found to put in legend.\n"
     ]
    },
    {
     "data": {
      "image/png": "[encoded data removed]",
      "text/plain": [
       "<Figure size 640x480 with 1 Axes>"
      ]
     },
     "metadata": {},
     "output_type": "display_data"
    }
   ],
   "source": [
    "plt.hist(df[\"std_sum\"], bins=40, color=\"#ff6e9c98\")\n",
    "plt.xlabel('Standardized Brain Rot Score')\n",
    "plt.ylabel('Frequency')\n",
    "plt.legend()\n",
    "plt.title('Distribution of Brain Rot Scores')\n",
    "plt.show()"
   ]
  },
  {
   "cell_type": "markdown",
   "metadata": {},
   "source": [
    "## Other Data Analysis"
   ]
  },
  {
   "cell_type": "code",
   "execution_count": 35,
   "metadata": {},
   "outputs": [
    {
     "name": "stderr",
     "output_type": "stream",
     "text": [
      "No handles with labels found to put in legend.\n"
     ]
    },
    {
     "data": {
      "text/plain": [
       "Text(0.5, 1.0, \"Brainrot of each Person by Respondent's Gender\")"
      ]
     },
     "execution_count": 35,
     "metadata": {},
     "output_type": "execute_result"
    },
    {
     "data": {
      "image/png": "[encoded data removed]",
      "text/plain": [
       "<Figure size 640x480 with 1 Axes>"
      ]
     },
     "metadata": {},
     "output_type": "display_data"
    }
   ],
   "source": [
    "my_pal = {\"Male\": \"cornflowerblue\", \"Female\": \"lightcoral\"}\n",
    "sns.boxplot(data=df, x=\"gender\", y=\"std_sum\", palette=my_pal, dodge=True)\n",
    "plt.legend(loc=\"lower left\")\n",
    "plt.title(\"Brainrot of each Person by Respondent's Gender\")"
   ]
  },
  {
   "cell_type": "code",
   "execution_count": 36,
   "metadata": {},
   "outputs": [
    {
     "name": "stderr",
     "output_type": "stream",
     "text": [
      "No handles with labels found to put in legend.\n"
     ]
    },
    {
     "data": {
      "text/plain": [
       "Text(0.5, 1.0, \"Brainrot of each Person by Respondent's Race\")"
      ]
     },
     "execution_count": 36,
     "metadata": {},
     "output_type": "execute_result"
    },
    {
     "data": {
      "image/png": "[encoded data removed]",
      "text/plain": [
       "<Figure size 640x480 with 1 Axes>"
      ]
     },
     "metadata": {},
     "output_type": "display_data"
    }
   ],
   "source": [
    "my_pal = {\"Indian\": \"sienna\", \"Asian\": \"xkcd:maize\", \"White\":\"linen\", \"Latino\":\"xkcd:dark tan\", \"Black\":\"xkcd:chocolate\", \"Black/Hispanic\":\"xkcd:chocolate\"}\n",
    "sns.boxplot(data=df, x=\"race\", y=\"std_sum\", palette=my_pal, dodge=True)\n",
    "plt.legend(loc=\"lower left\")\n",
    "plt.title(\"Brainrot of each Person by Respondent's Race\")"
   ]
  },
  {
   "cell_type": "code",
   "execution_count": 37,
   "metadata": {},
   "outputs": [
    {
     "data": {
      "text/plain": [
       "Text(0.5, 1.0, \"Brainrot of each Person by Respondent's goon\")"
      ]
     },
     "execution_count": 37,
     "metadata": {},
     "output_type": "execute_result"
    },
    {
     "data": {
      "image/png": "[encoded data removed]",
      "text/plain": [
       "<Figure size 640x480 with 1 Axes>"
      ]
     },
     "metadata": {},
     "output_type": "display_data"
    }
   ],
   "source": [
    "factor = \"goon\"\n",
    "sns.stripplot(data=df, x=factor, hue=\"stem\", y=\"std_sum\", dodge=True)\n",
    "plt.legend(loc=\"lower left\")\n",
    "plt.title(f\"Brainrot of each Person by Respondent's {factor}\")"
   ]
  },
  {
   "cell_type": "code",
   "execution_count": 38,
   "metadata": {},
   "outputs": [
    {
     "name": "stderr",
     "output_type": "stream",
     "text": [
      "No handles with labels found to put in legend.\n"
     ]
    },
    {
     "data": {
      "text/plain": [
       "Text(0.5, 1.0, \"Brainrot of each Person by Respondent's musical elective\")"
      ]
     },
     "execution_count": 38,
     "metadata": {},
     "output_type": "execute_result"
    },
    {
     "data": {
      "image/png": "[encoded data removed]",
      "text/plain": [
       "<Figure size 640x480 with 1 Axes>"
      ]
     },
     "metadata": {},
     "output_type": "display_data"
    }
   ],
   "source": [
    "my_pal = {\"Indian\": \"sienna\", \"Asian\": \"xkcd:maize\", \"White\":\"linen\", \"Latino\":\"xkcd:dark tan\", \"Black\":\"xkcd:very dark brown\"}\n",
    "sns.boxplot(data=df, x=\"music\", y=\"std_sum\", dodge=True)\n",
    "plt.legend(loc=\"lower left\")\n",
    "plt.title(\"Brainrot of each Person by Respondent's musical elective\")"
   ]
  },
  {
   "cell_type": "code",
   "execution_count": 39,
   "metadata": {},
   "outputs": [
    {
     "data": {
      "text/plain": [
       "Text(0.5, 1.0, \"Brainrot of each Person by Respondent's gender and response to Drake Snake\")"
      ]
     },
     "execution_count": 39,
     "metadata": {},
     "output_type": "execute_result"
    },
    {
     "data": {
      "image/png": "[encoded data removed]",
      "text/plain": [
       "<Figure size 640x480 with 1 Axes>"
      ]
     },
     "metadata": {},
     "output_type": "display_data"
    }
   ],
   "source": [
    "my_pal = {\"Male\": \"cornflowerblue\", \"Female\": \"lightcoral\"}\n",
    "sns.boxplot(data=df, x=\"gender\", y=\"weighted_points\", hue=\"q7\", dodge=True)\n",
    "plt.legend(loc=\"lower left\")\n",
    "plt.title(\"Brainrot of each Person by Respondent's gender and response to Drake Snake\")"
   ]
  },
  {
   "cell_type": "markdown",
   "metadata": {},
   "source": [
    "## Relationship between number of Instagram followers and Brainrot"
   ]
  },
  {
   "cell_type": "code",
   "execution_count": 40,
   "metadata": {},
   "outputs": [
    {
     "data": {
      "text/plain": [
       "<matplotlib.collections.PathCollection at 0x15d6cc580>"
      ]
     },
     "execution_count": 40,
     "metadata": {},
     "output_type": "execute_result"
    },
    {
     "data": {
      "image/png": "[encoded data removed]",
      "text/plain": [
       "<Figure size 640x480 with 1 Axes>"
      ]
     },
     "metadata": {},
     "output_type": "display_data"
    }
   ],
   "source": [
    "plt.scatter(x=df[\"insta\"], y=df[\"std_sum\"])"
   ]
  },
  {
   "cell_type": "markdown",
   "metadata": {},
   "source": [
    "### Running Regression Analysis on Instagram and Brainrot"
   ]
  },
  {
   "cell_type": "code",
   "execution_count": 41,
   "metadata": {},
   "outputs": [],
   "source": [
    "df2 = df.dropna()\n",
    "\n",
    "Y = df2[\"insta\"]\n",
    "X = df2[\"std_sum\"]\n",
    "X = sm.add_constant(X)\n",
    "model = sm.OLS(Y,X)\n",
    "\n",
    "results = model.fit()"
   ]
  },
  {
   "cell_type": "code",
   "execution_count": 42,
   "metadata": {},
   "outputs": [
    {
     "name": "stdout",
     "output_type": "stream",
     "text": [
      "const      2.216965\n",
      "std_sum    0.147067\n",
      "dtype: float64\n",
      "const      24.790105\n",
      "std_sum     2.671145\n",
      "dtype: float64\n",
      "                             Test for Constraints                             \n",
      "==============================================================================\n",
      "                 coef    std err          t      P>|t|      [0.025      0.975]\n",
      "------------------------------------------------------------------------------\n",
      "c0             2.2170      0.089     24.790      0.000       2.039       2.395\n",
      "==============================================================================\n"
     ]
    }
   ],
   "source": [
    "print(results.params)\n",
    "print(results.tvalues)\n",
    "print(results.t_test([1, 0]))"
   ]
  },
  {
   "cell_type": "code",
   "execution_count": 43,
   "metadata": {},
   "outputs": [
    {
     "data": {
      "text/html": [
       "<table class=\"simpletable\">\n",
       "<caption>OLS Regression Results</caption>\n",
       "<tr>\n",
       "  <th>Dep. Variable:</th>          <td>insta</td>      <th>  R-squared:         </th> <td>   0.072</td>\n",
       "</tr>\n",
       "<tr>\n",
       "  <th>Model:</th>                   <td>OLS</td>       <th>  Adj. R-squared:    </th> <td>   0.062</td>\n",
       "</tr>\n",
       "<tr>\n",
       "  <th>Method:</th>             <td>Least Squares</td>  <th>  F-statistic:       </th> <td>   7.135</td>\n",
       "</tr>\n",
       "<tr>\n",
       "  <th>Date:</th>             <td>Mon, 23 Sep 2024</td> <th>  Prob (F-statistic):</th>  <td>0.00894</td>\n",
       "</tr>\n",
       "<tr>\n",
       "  <th>Time:</th>                 <td>20:40:02</td>     <th>  Log-Likelihood:    </th> <td> -118.95</td>\n",
       "</tr>\n",
       "<tr>\n",
       "  <th>No. Observations:</th>      <td>    94</td>      <th>  AIC:               </th> <td>   241.9</td>\n",
       "</tr>\n",
       "<tr>\n",
       "  <th>Df Residuals:</th>          <td>    92</td>      <th>  BIC:               </th> <td>   247.0</td>\n",
       "</tr>\n",
       "<tr>\n",
       "  <th>Df Model:</th>              <td>     1</td>      <th>                     </th>     <td> </td>   \n",
       "</tr>\n",
       "<tr>\n",
       "  <th>Covariance Type:</th>      <td>nonrobust</td>    <th>                     </th>     <td> </td>   \n",
       "</tr>\n",
       "</table>\n",
       "<table class=\"simpletable\">\n",
       "<tr>\n",
       "     <td></td>        <th>coef</th>     <th>std err</th>      <th>t</th>      <th>P>|t|</th>  <th>[0.025</th>    <th>0.975]</th>  \n",
       "</tr>\n",
       "<tr>\n",
       "  <th>const</th>   <td>    2.2170</td> <td>    0.089</td> <td>   24.790</td> <td> 0.000</td> <td>    2.039</td> <td>    2.395</td>\n",
       "</tr>\n",
       "<tr>\n",
       "  <th>std_sum</th> <td>    0.1471</td> <td>    0.055</td> <td>    2.671</td> <td> 0.009</td> <td>    0.038</td> <td>    0.256</td>\n",
       "</tr>\n",
       "</table>\n",
       "<table class=\"simpletable\">\n",
       "<tr>\n",
       "  <th>Omnibus:</th>       <td>22.650</td> <th>  Durbin-Watson:     </th> <td>   1.488</td>\n",
       "</tr>\n",
       "<tr>\n",
       "  <th>Prob(Omnibus):</th> <td> 0.000</td> <th>  Jarque-Bera (JB):  </th> <td>  29.217</td>\n",
       "</tr>\n",
       "<tr>\n",
       "  <th>Skew:</th>          <td>-1.271</td> <th>  Prob(JB):          </th> <td>4.53e-07</td>\n",
       "</tr>\n",
       "<tr>\n",
       "  <th>Kurtosis:</th>      <td> 3.999</td> <th>  Cond. No.          </th> <td>    1.62</td>\n",
       "</tr>\n",
       "</table><br/><br/>Notes:<br/>[1] Standard Errors assume that the covariance matrix of the errors is correctly specified."
      ],
      "text/plain": [
       "<class 'statsmodels.iolib.summary.Summary'>\n",
       "\"\"\"\n",
       "                            OLS Regression Results                            \n",
       "==============================================================================\n",
       "Dep. Variable:                  insta   R-squared:                       0.072\n",
       "Model:                            OLS   Adj. R-squared:                  0.062\n",
       "Method:                 Least Squares   F-statistic:                     7.135\n",
       "Date:                Mon, 23 Sep 2024   Prob (F-statistic):            0.00894\n",
       "Time:                        20:40:02   Log-Likelihood:                -118.95\n",
       "No. Observations:                  94   AIC:                             241.9\n",
       "Df Residuals:                      92   BIC:                             247.0\n",
       "Df Model:                           1                                         \n",
       "Covariance Type:            nonrobust                                         \n",
       "==============================================================================\n",
       "                 coef    std err          t      P>|t|      [0.025      0.975]\n",
       "------------------------------------------------------------------------------\n",
       "const          2.2170      0.089     24.790      0.000       2.039       2.395\n",
       "std_sum        0.1471      0.055      2.671      0.009       0.038       0.256\n",
       "==============================================================================\n",
       "Omnibus:                       22.650   Durbin-Watson:                   1.488\n",
       "Prob(Omnibus):                  0.000   Jarque-Bera (JB):               29.217\n",
       "Skew:                          -1.271   Prob(JB):                     4.53e-07\n",
       "Kurtosis:                       3.999   Cond. No.                         1.62\n",
       "==============================================================================\n",
       "\n",
       "Notes:\n",
       "[1] Standard Errors assume that the covariance matrix of the errors is correctly specified.\n",
       "\"\"\""
      ]
     },
     "execution_count": 43,
     "metadata": {},
     "output_type": "execute_result"
    }
   ],
   "source": [
    "results.summary()"
   ]
  }
 ],
 "metadata": {
  "kernelspec": {
   "display_name": "Python 3",
   "language": "python",
   "name": "python3"
  },
  "language_info": {
   "codemirror_mode": {
    "name": "ipython",
    "version": 3
   },
   "file_extension": ".py",
   "mimetype": "text/x-python",
   "name": "python",
   "nbconvert_exporter": "python",
   "pygments_lexer": "ipython3",
   "version": "3.9.15"
  }
 },
 "nbformat": 4,
 "nbformat_minor": 2
}
